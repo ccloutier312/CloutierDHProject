{
 "cells": [
  {
   "cell_type": "markdown",
   "metadata": {},
   "source": [
    "# Conclusion"
   ]
  },
  {
   "cell_type": "markdown",
   "metadata": {},
   "source": [
    "Word embedding models are incredibly powerful tools that allow researchers to explore large amounts of text that would otherwise not be possible in a reasonable amount of time. They are able to provide a top down view of the corpus. This presents suggestions of how researchers can conduct close readings of the texts, but word embeddings are a tool that humanists should use to give a second glance over traditional sources."
   ]
  },
  {
   "cell_type": "markdown",
   "metadata": {},
   "source": [
    "The human choices made at every step of this type of analysis manipulate your results to a greater degree than the code itself. The results are not contextualized and require intervention within a review of this type of modeling. It is important to provide the cultural, social, etc constraints placed on the corpus and to recognize the series of constructs placed on the raw text.\n"
   ]
  },
  {
   "cell_type": "markdown",
   "metadata": {},
   "source": [
    "## Acknowledgements"
   ]
  },
  {
   "cell_type": "markdown",
   "metadata": {},
   "source": [
    "Special thanks to the Women Writers Project (WWP) at Northeastern University. This project was conceived during a workshop presented by the WWP in July 2019. Laura Johnson, who worked for the WWP, guided me through the process of cleaning my data in its earliest form, necessary for later iterations. Also, my appreciation goes to my project advisors, Dr. Julia Flanders and Dr. Sarah Connell, for their continued support since the inception of this project. Despite various obstacles, from minor code bugs to Covid-19, both Dr. Flanders and Dr. Connell quickly answered questions and provided useful suggestions at each milestone of this project."
   ]
  }
 ],
 "metadata": {
  "kernelspec": {
   "display_name": "R",
   "language": "R",
   "name": "ir"
  },
  "language_info": {
   "codemirror_mode": "r",
   "file_extension": ".r",
   "mimetype": "text/x-r-source",
   "name": "R",
   "pygments_lexer": "r",
   "version": "3.6.3"
  }
 },
 "nbformat": 4,
 "nbformat_minor": 4
}
