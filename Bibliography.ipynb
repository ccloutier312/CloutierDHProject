{
 "cells": [
  {
   "cell_type": "markdown",
   "metadata": {},
   "source": [
    "# Bibliography"
   ]
  },
  {
   "cell_type": "markdown",
   "metadata": {},
   "source": [
    "Argamon, Shlomo et al. “Vive la Différence! Text Mining Gender Difference in French Literature” in Digital Humanities Quarterly 3:2 (2009). http://digitalhumanities.org:8081/dhq/vol/3/2/000042/000042.html.\n",
    "\n",
    "Bethell, Leslie and Ian Roxborough. “The impact of the Cold War on Latin America” in Origins of the Cold War: An International History. New York: Routledge, 1994.\n",
    "\n",
    "Blevins, Cameron. \"Digital History's Perpetual Future Tense.\" Debates in the Digital Humanities, 2016. http://dhdebates.gc.cuny.edu/debates/text/77.\n",
    "\n",
    "Drucker, Johanna. “Humanities Approaches to Graphical Display.” Digital Humanities Quarterly 5, No. 1 (2011). http://www.digitalhumanities.org/dhq/vol/5/1/000091/000091.html.\n",
    "\n",
    "Heuser, Ryan. “Word Vectors in the Eighteenth Century, Episode 1: Concepts.” Virtue and the Virtual, 14 Apr. 2016. http://ryanheuser.org/word-vectors-1/.\n",
    "\n",
    "Heuser, Ryan. “Word Vectors in the Eighteenth Century, Episode 2: Methods.” Virtue and the Virtual, 1 June 2016. http://ryanheuser.org/word-vectors-2/.\n",
    "\n",
    "Klein, Lauren F. “The Image of Absence: Archival Silence, Data Visualization, and James Hemings” in American Literature 85, No. 4 (1 December 2013):661–688. https://doi-org.ezproxy.neu.edu/10.1215/00029831-2367310.\n",
    "\n",
    "Klein, Lauren F, and D'Ignazio, Catherine. Data Feminism. Strong Ideas. Cambridge: MIT Press, 2020.\n",
    "\n",
    "Schmidt, Benjamin. “Vector Space Models for the Digital Humanities.” Ben's Bookworm Blog, 25 Oct. 2015. http://bookworm.benschmidt.org/posts/2015-10-25-Word-Embeddings.html.\n",
    "\n",
    "Rosenberg, Emily S. “Gender” in The Journal of American History 77, no. 1 (June 1990): 116-124.\n",
    "\n",
    "Wu, Judy Tzu-Chun. “Gendering American foreign relations.” In Explaining the History of American Foreign Relations, edited by Frank Costigliola and Michael J. Hogan., 271-283. New York: Cambridge University Press, 2016.\n"
   ]
  },
  {
   "cell_type": "code",
   "execution_count": null,
   "metadata": {},
   "outputs": [],
   "source": []
  }
 ],
 "metadata": {
  "kernelspec": {
   "display_name": "R",
   "language": "R",
   "name": "ir"
  },
  "language_info": {
   "codemirror_mode": "r",
   "file_extension": ".r",
   "mimetype": "text/x-r-source",
   "name": "R",
   "pygments_lexer": "r",
   "version": "3.6.3"
  }
 },
 "nbformat": 4,
 "nbformat_minor": 4
}
