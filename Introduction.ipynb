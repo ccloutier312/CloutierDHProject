{
 "cells": [
  {
   "cell_type": "markdown",
   "metadata": {},
   "source": [
    "# (Data) Feminism and Foreign Relations: Exploring Gender in the *FRUS* Series, 1945-1960"
   ]
  },
  {
   "cell_type": "markdown",
   "metadata": {},
   "source": [
    "## OR The Cold War and Word Embeddings: Exploring Gender in the *FRUS* Series, 1945-1960"
   ]
  },
  {
   "cell_type": "markdown",
   "metadata": {},
   "source": [
    "Scholars are increasingly recognizing the complexities of the Cold War and its implications on various levels on society. Traditional analyses of the era depict a contention between the two opposing economic systems vying for power following the Second World War. A shift in historiography has demonstrated that despite this overarching international conflict, it is important to analyze other aspects of the era. Local narratives provide insightful looks into conflicts that were not fought at the superpower level or via proxy war. While these new analyses allow for greater recognition of agency in the period, they have largely relied on traditional methods to examine the period. By using digital methods, scholars may be able to reexamine traditional sources to conduct more nuanced analyses.\n"
   ]
  },
  {
   "cell_type": "markdown",
   "metadata": {},
   "source": [
    "This project uses word embedding models to investigate the contents of the *Foreign Relations of the United States (FRUS)* relating to the early Cold War in Latin America. The series is comprised of documents relating to various levels of policymaking, from State Department memorandums to official policy. The corpus presents an interesting case in which to explore gender. A collection that is an accumulation of major foreign relations documents, the corpus is not traditionally known for its depictions of gender. Yet gender is an inherent aspect of social relations and therefore should be present in a distant reading of the documents."
   ]
  },
  {
   "cell_type": "markdown",
   "metadata": {},
   "source": [
    "This project explores the language used by the State Department officials during the Cold War. Latin America nations acted as arenas for the deployment of US Cold War policy on the local to national level. But the relationship between those writing policy and the society they were representing has not often been examined. By isolating the documents concerning Latin America during the early postwar period, this project first seeks to examine how the State Department understood gender within the Western hemisphere between 1945-1960."
   ]
  },
  {
   "cell_type": "markdown",
   "metadata": {},
   "source": [
    "While this project originally intended to research the usages of gendered terms in the corporus, further investigation and acknowledgement of the limitations of such a research question expanded the premise of this project. After recognizing the construction of the textual data that this project includes, I questioned the legitimacy of the research questions and the texts that this project is based upon. Therefore, I use the theoretical framework of “data feminism” to situate my findings. This project demonstrates the power of word vector models, but also the constructions confronting the corpora and the researchers themselves through the lens of data feminism. These analyses are only as powerful as the contextualization of their data. Overall, this study aims to demonstrate that this corpus, and foreign policy in general, is based on a series of constructions."
   ]
  },
  {
   "cell_type": "markdown",
   "metadata": {},
   "source": [
    "## Project Origins"
   ]
  },
  {
   "cell_type": "markdown",
   "metadata": {},
   "source": [
    "This project was conceived during a workshop in July 2019. The workshop, Word Vectors Institute, was presented by the Women Writers Project at Northeastern University as an introduction for digital humanists interested in text analysis. I had previously utilized the FRUS series for a text analysis project and used the corpus I had on-hand to explore during the institute. Queries that explore class and gender are easy entries into the text and presented interesting results from the earlier generation of this project. Based on this exploratory workshop, I chose to refine the research questions and the scope of the project for further analysis."
   ]
  },
  {
   "cell_type": "markdown",
   "metadata": {},
   "source": [
    "Please also note that this project is an experimentation in nonlinear presentations. Each subpage of this project is linked to one another so users can navigate at their own pace and based on their own interests. This is intended to maximize audience presence and accessibility."
   ]
  },
  {
   "cell_type": "markdown",
   "metadata": {},
   "source": [
    "## Literature Review "
   ]
  },
  {
   "cell_type": "markdown",
   "metadata": {},
   "source": [
    "### Word Embeddings and Text Analysis"
   ]
  },
  {
   "cell_type": "markdown",
   "metadata": {},
   "source": [
    "The promise of digital humanities, as discussed by Cameron Blevins, presents the opportunity to utilize quantitative history on traditionally qualitative sources. In discussing the caution that digital humanists take to not repeat the mistakes of “quantitative predecessors”, Blevins poses that there is “a fear of argumentative overreach based on numerical evidence” (Blevins 2016)."
   ]
  },
  {
   "cell_type": "markdown",
   "metadata": {},
   "source": [
    "In 2015, Benjamin Schmidt explained that word embedding models “merit attention because they allow a much richer exploration of the *vocabularies* or *discursive spaces* implied by massive collections of texts than most other reductions out there” (Schmidt 2015). Schmidt’s model, using the *Chronicling America* corpus, shows binaries within the corpus (for example, “sweet/salty” and “vegetable/meaty”) that are regions in the model, and not defined by single words. These classifications interestingly “exist as a spectrum rather than a class” and not only exist in the model but also “in the real world” (Schmidt 2015). It is with this concept that this project aims to investigate the understanding  of gender within the *FRUS* corpus. "
   ]
  },
  {
   "cell_type": "markdown",
   "metadata": {},
   "source": [
    "After training a word embedding model with the code (link here), a vector space is created in which terms are plotted. The distance between points in the space represents the relationship between each word in the corpus. Each term is given a score based on similarity in usage within the corpus. Reduced down to a linear order of words, word embedding models depict the relations between terms in a corpus (Schmidt 2015). In an introduction to vector space models, Schmidt notes that word embedding models are centered around two objectives: they attempt to first, “reflect similarities in usage between words in distances in space” and second, “reflect similar relationships between words with similar paths in space” (Schmidt 2015). Therefore, word embedding models will be a useful too to explore this lacking subject in the field of Cold War history."
   ]
  }
 ],
 "metadata": {
  "kernelspec": {
   "display_name": "R",
   "language": "R",
   "name": "ir"
  },
  "language_info": {
   "codemirror_mode": "r",
   "file_extension": ".r",
   "mimetype": "text/x-r-source",
   "name": "R",
   "pygments_lexer": "r",
   "version": "3.6.3"
  }
 },
 "nbformat": 4,
 "nbformat_minor": 4
}
